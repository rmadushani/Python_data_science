{
 "cells": [
  {
   "cell_type": "code",
   "execution_count": 148,
   "metadata": {
    "collapsed": false
   },
   "outputs": [
    {
     "name": "stdout",
     "output_type": "stream",
     "text": [
      "compactness\n",
      "width\n",
      "groove\n",
      "0.907142857143\n",
      "0.857142857143\n"
     ]
    },
    {
     "data": {
      "image/png": "[encoded data removed]",
      "text/plain": [
       "<matplotlib.figure.Figure at 0x10f1f9518>"
      ]
     },
     "metadata": {},
     "output_type": "display_data"
    }
   ],
   "source": [
    "import numpy as np\n",
    "import pandas as pd\n",
    "import matplotlib.pyplot as plt\n",
    "import matplotlib\n",
    "\n",
    "matplotlib.style.use('ggplot') # Look Pretty\n",
    "\n",
    "\n",
    "def plotDecisionBoundary(model, X, y):\n",
    "  fig = plt.figure()\n",
    "  ax = fig.add_subplot(111)\n",
    "\n",
    "  padding = 0.6\n",
    "  resolution = 0.0025\n",
    "  colors = ['royalblue','forestgreen','ghostwhite']\n",
    "\n",
    "\n",
    "  # Calculate the boundaris\n",
    "  x_min, x_max = X[:, 0].min(), X[:, 0].max()\n",
    "  y_min, y_max = X[:, 1].min(), X[:, 1].max()\n",
    "  x_range = x_max - x_min\n",
    "  y_range = y_max - y_min\n",
    "  x_min -= x_range * padding\n",
    "  y_min -= y_range * padding\n",
    "  x_max += x_range * padding\n",
    "  y_max += y_range * padding\n",
    "\n",
    "  # Create a 2D Grid Matrix. The values stored in the matrix\n",
    "  # are the predictions of the class at at said location\n",
    "  xx, yy = np.meshgrid(np.arange(x_min, x_max, resolution),\n",
    "                       np.arange(y_min, y_max, resolution))\n",
    "\n",
    "  # What class does the classifier say?\n",
    "  Z = model.predict(np.c_[xx.ravel(), yy.ravel()])\n",
    "  Z = Z.reshape(xx.shape)\n",
    "\n",
    "  # Plot the contour map\n",
    "  cs = plt.contourf(xx, yy, Z, cmap=plt.cm.terrain)\n",
    "\n",
    "  # Plot the test original points as well...\n",
    "  for label in range(len(np.unique(y))):\n",
    "    indices = np.where(y == label)\n",
    "    plt.scatter(X[indices, 0], X[indices, 1], c=colors[label], label=str(label), alpha=0.8)\n",
    "\n",
    "  p = model.get_params()\n",
    "  plt.axis('tight')\n",
    "  plt.title('K = ' + str(p['n_neighbors']))\n",
    "\n",
    "\n",
    "# \n",
    "# TODO: Load up the dataset into a variable called X. Check the .head and\n",
    "# compare it to the file you loaded in a text editor. Make sure you're\n",
    "# loading your data properly--don't fail on the 1st step!\n",
    "#\n",
    "# .. your code here ..\n",
    "X = pd.read_csv(\"/Users/madushani/Google Drive/DataScience/DAT210x-master/Module5/Datasets/wheat.Data\",index_col=0)\n",
    "#X = X.dropna()\n",
    "## Ensure there are no nan \"holes\" in your index, by reshaping row indices\n",
    "#X = X.reset_index(drop=True)\n",
    "#\n",
    "# TODO: Copy the 'wheat_type' series slice out of X, and into a series\n",
    "# called 'y'. Then drop the original 'wheat_type' column from the X\n",
    "#\n",
    "# .. your code here ..\n",
    "wheat_type = X['wheat_type']\n",
    "### Get rid of the wheat_type column.\n",
    "X = X.drop(labels=['wheat_type'], axis=1)\n",
    "\n",
    "#wheat_type = X['wheat_type'].copy()\n",
    "#X.drop(labels=['wheat_type'], inplace=True, axis=1)\n",
    "\n",
    "# TODO: Do a quick, \"ordinal\" conversion of 'y'. In actuality our\n",
    "# classification isn't ordinal, but just as an experiment...\n",
    "#\n",
    "# .. your code here ..\n",
    "wheat_type.unique()\n",
    "wheat_type.value_counts()\n",
    "ordered_wheat_type = ['canadian', 'rosa ', 'kama']\n",
    "\n",
    "wheat_type = wheat_type.astype(\"category\",\n",
    "  ordered=True,\n",
    "  categories=ordered_wheat_type\n",
    ").cat.codes\n",
    "\n",
    "import numpy as np\n",
    "sum(wheat_type.apply(np.isnan))\n",
    "\n",
    "#\n",
    "# TODO: Basic nan munging. Fill each row's nans with the mean of the feature\n",
    "#\n",
    "# .. your code here ..\n",
    "for elements in X.columns.values:\n",
    "    if sum(X[elements].apply(np.isnan)) > 0:\n",
    "        print(elements)\n",
    "        X[elements] = X[elements].fillna( X[elements].mean())\n",
    "        \n",
    "#mylist = []\n",
    "#for elements in X.columns.values:\n",
    "   # if sum(X[elements].apply(np.isnan)) > 0:\n",
    "        #mylist.append(elements)\n",
    "#print(mylist)\n",
    "# ['compactness', 'width', 'groove']\n",
    "\n",
    "\n",
    "\n",
    "# TODO: Split X into training and testing data sets using train_test_split().\n",
    "# INFO: Use 0.33 test size, and use random_state=1. This is important\n",
    "# so that your answers are verifiable. In the real world, you wouldn't\n",
    "# specify a random_state.\n",
    "#\n",
    "# .. your code here ..\n",
    "\n",
    "from sklearn.model_selection import train_test_split\n",
    "X_train, X_test, y_train, y_test = train_test_split(X, wheat_type, test_size=0.33, random_state=1)\n",
    "# \n",
    "# TODO: Create an instance of SKLearn's Normalizer class and then train it\n",
    "# using its .fit() method against your *training* data.\n",
    "#\n",
    "# NOTE: The reason you only fit against your training data is because in a\n",
    "# real-world situation, you'll only have your training data to train with!\n",
    "# In this lab setting, you have both train+test data; but in the wild,\n",
    "# you'll only have your training data, and then unlabeled data you want to\n",
    "# apply your models to.\n",
    "#\n",
    "# .. your code here ..\n",
    "from sklearn import preprocessing\n",
    "normalizer = preprocessing.Normalizer().fit(X_train) \n",
    "X_train_transformed = normalizer.transform(X_train) \n",
    "\n",
    "\n",
    "#\n",
    "# TODO: With your trained pre-processor, transform both your training AND\n",
    "# testing data.\n",
    "#\n",
    "# NOTE: Any testing data has to be transformed with your preprocessor\n",
    "# that has ben fit against your training data, so that it exist in the same\n",
    "# feature-space as the original data used to train your models.\n",
    "#\n",
    "# .. your code here ..\n",
    "normalizer = preprocessing.Normalizer().fit(X_test) \n",
    "X_test_transformed = normalizer.transform(X_test)\n",
    "\n",
    "\n",
    "\n",
    "#\n",
    "# TODO: Just like your preprocessing transformation, create a PCA\n",
    "# transformation as well. Fit it against your training data, and then\n",
    "# project your training and testing features into PCA space using the\n",
    "# PCA model's .transform() method.\n",
    "#\n",
    "# NOTE: This has to be done because the only way to visualize the decision\n",
    "# boundary in 2D would be if your KNN algo ran in 2D as well:\n",
    "#\n",
    "# .. your code here ..\n",
    "\n",
    "from sklearn.decomposition import PCA\n",
    "pca_train = PCA(n_components=2, svd_solver='full')\n",
    "pca_train.fit(X_train_transformed)\n",
    "T_train = pca_train.transform(X_train_transformed)\n",
    "\n",
    "T_test = pca_train.transform(X_test_transformed)\n",
    "\n",
    "\n",
    "#\n",
    "# TODO: Create and train a KNeighborsClassifier. Start with K=9 neighbors.\n",
    "# NOTE: Be sure train your classifier against the pre-processed, PCA-\n",
    "# transformed training data above! You do not, of course, need to transform\n",
    "# your labels.\n",
    "#\n",
    "# .. your code here ..\n",
    "\n",
    "from sklearn.neighbors import KNeighborsClassifier\n",
    "knn = KNeighborsClassifier(n_neighbors=9)\n",
    "knn_model = knn.fit(T_train, y_train)\n",
    "\n",
    "\n",
    "# HINT: Ensure your KNeighbors classifier object from earlier is called 'knn'\n",
    "#plotDecisionBoundary(knn_model, T_train, y_train)\n",
    "plotDecisionBoundary(knn_model, T_test, y_test)\n",
    "\n",
    "#------------------------------------\n",
    "#\n",
    "# TODO: Display the accuracy score of your test data/labels, computed by\n",
    "# your KNeighbors model.\n",
    "#\n",
    "# NOTE: You do NOT have to run .predict before calling .score, since\n",
    "# .score will take care of running your predictions for you automatically.\n",
    "#\n",
    "# .. your code here ..\n",
    "print(knn_model.score(T_train,y_train))\n",
    "print(knn_model.score(T_test,y_test))\n",
    "\n",
    "#\n",
    "# BONUS: Instead of the ordinal conversion, try and get this assignment\n",
    "# working with a proper Pandas get_dummies for feature encoding. HINT:\n",
    "# You might have to update some of the plotDecisionBoundary code.\n",
    "\n",
    "\n",
    "plt.show()\n",
    "\n"
   ]
  },
  {
   "cell_type": "code",
   "execution_count": 100,
   "metadata": {
    "collapsed": false
   },
   "outputs": [
    {
     "data": {
      "text/html": [
       "<div>\n",
       "<table border=\"1\" class=\"dataframe\">\n",
       "  <thead>\n",
       "    <tr style=\"text-align: right;\">\n",
       "      <th></th>\n",
       "      <th>area</th>\n",
       "      <th>perimeter</th>\n",
       "      <th>compactness</th>\n",
       "      <th>length</th>\n",
       "      <th>width</th>\n",
       "      <th>asymmetry</th>\n",
       "      <th>groove</th>\n",
       "    </tr>\n",
       "    <tr>\n",
       "      <th>id</th>\n",
       "      <th></th>\n",
       "      <th></th>\n",
       "      <th></th>\n",
       "      <th></th>\n",
       "      <th></th>\n",
       "      <th></th>\n",
       "      <th></th>\n",
       "    </tr>\n",
       "  </thead>\n",
       "  <tbody>\n",
       "    <tr>\n",
       "      <th>0</th>\n",
       "      <td>15.26</td>\n",
       "      <td>14.84</td>\n",
       "      <td>0.8710</td>\n",
       "      <td>5.763</td>\n",
       "      <td>3.312</td>\n",
       "      <td>2.221</td>\n",
       "      <td>5.220000</td>\n",
       "    </tr>\n",
       "    <tr>\n",
       "      <th>1</th>\n",
       "      <td>14.88</td>\n",
       "      <td>14.57</td>\n",
       "      <td>0.8811</td>\n",
       "      <td>5.554</td>\n",
       "      <td>3.333</td>\n",
       "      <td>1.018</td>\n",
       "      <td>4.956000</td>\n",
       "    </tr>\n",
       "    <tr>\n",
       "      <th>2</th>\n",
       "      <td>14.29</td>\n",
       "      <td>14.09</td>\n",
       "      <td>0.9050</td>\n",
       "      <td>5.291</td>\n",
       "      <td>3.337</td>\n",
       "      <td>2.699</td>\n",
       "      <td>4.825000</td>\n",
       "    </tr>\n",
       "    <tr>\n",
       "      <th>3</th>\n",
       "      <td>13.84</td>\n",
       "      <td>13.94</td>\n",
       "      <td>0.8955</td>\n",
       "      <td>5.324</td>\n",
       "      <td>3.379</td>\n",
       "      <td>2.259</td>\n",
       "      <td>4.805000</td>\n",
       "    </tr>\n",
       "    <tr>\n",
       "      <th>4</th>\n",
       "      <td>16.14</td>\n",
       "      <td>14.99</td>\n",
       "      <td>0.9034</td>\n",
       "      <td>5.658</td>\n",
       "      <td>3.562</td>\n",
       "      <td>1.355</td>\n",
       "      <td>5.175000</td>\n",
       "    </tr>\n",
       "    <tr>\n",
       "      <th>5</th>\n",
       "      <td>14.38</td>\n",
       "      <td>14.21</td>\n",
       "      <td>0.8951</td>\n",
       "      <td>5.386</td>\n",
       "      <td>3.312</td>\n",
       "      <td>2.462</td>\n",
       "      <td>4.956000</td>\n",
       "    </tr>\n",
       "    <tr>\n",
       "      <th>6</th>\n",
       "      <td>14.69</td>\n",
       "      <td>14.49</td>\n",
       "      <td>0.8799</td>\n",
       "      <td>5.563</td>\n",
       "      <td>3.259</td>\n",
       "      <td>3.586</td>\n",
       "      <td>5.219000</td>\n",
       "    </tr>\n",
       "    <tr>\n",
       "      <th>7</th>\n",
       "      <td>14.11</td>\n",
       "      <td>14.10</td>\n",
       "      <td>0.8911</td>\n",
       "      <td>5.420</td>\n",
       "      <td>3.302</td>\n",
       "      <td>2.700</td>\n",
       "      <td>5.407529</td>\n",
       "    </tr>\n",
       "    <tr>\n",
       "      <th>8</th>\n",
       "      <td>16.63</td>\n",
       "      <td>15.46</td>\n",
       "      <td>0.8747</td>\n",
       "      <td>6.053</td>\n",
       "      <td>3.465</td>\n",
       "      <td>2.040</td>\n",
       "      <td>5.877000</td>\n",
       "    </tr>\n",
       "    <tr>\n",
       "      <th>9</th>\n",
       "      <td>16.44</td>\n",
       "      <td>15.25</td>\n",
       "      <td>0.8880</td>\n",
       "      <td>5.884</td>\n",
       "      <td>3.505</td>\n",
       "      <td>1.969</td>\n",
       "      <td>5.533000</td>\n",
       "    </tr>\n",
       "  </tbody>\n",
       "</table>\n",
       "</div>"
      ],
      "text/plain": [
       "     area  perimeter  compactness  length  width  asymmetry    groove\n",
       "id                                                                   \n",
       "0   15.26      14.84       0.8710   5.763  3.312      2.221  5.220000\n",
       "1   14.88      14.57       0.8811   5.554  3.333      1.018  4.956000\n",
       "2   14.29      14.09       0.9050   5.291  3.337      2.699  4.825000\n",
       "3   13.84      13.94       0.8955   5.324  3.379      2.259  4.805000\n",
       "4   16.14      14.99       0.9034   5.658  3.562      1.355  5.175000\n",
       "5   14.38      14.21       0.8951   5.386  3.312      2.462  4.956000\n",
       "6   14.69      14.49       0.8799   5.563  3.259      3.586  5.219000\n",
       "7   14.11      14.10       0.8911   5.420  3.302      2.700  5.407529\n",
       "8   16.63      15.46       0.8747   6.053  3.465      2.040  5.877000\n",
       "9   16.44      15.25       0.8880   5.884  3.505      1.969  5.533000"
      ]
     },
     "execution_count": 100,
     "metadata": {},
     "output_type": "execute_result"
    }
   ],
   "source": [
    "X.head(10)"
   ]
  },
  {
   "cell_type": "code",
   "execution_count": 157,
   "metadata": {
    "collapsed": false
   },
   "outputs": [
    {
     "data": {
      "text/html": [
       "<div>\n",
       "<table border=\"1\" class=\"dataframe\">\n",
       "  <thead>\n",
       "    <tr style=\"text-align: right;\">\n",
       "      <th></th>\n",
       "      <th>area</th>\n",
       "      <th>perimeter</th>\n",
       "      <th>compactness</th>\n",
       "      <th>length</th>\n",
       "      <th>width</th>\n",
       "      <th>asymmetry</th>\n",
       "      <th>groove</th>\n",
       "    </tr>\n",
       "    <tr>\n",
       "      <th>id</th>\n",
       "      <th></th>\n",
       "      <th></th>\n",
       "      <th></th>\n",
       "      <th></th>\n",
       "      <th></th>\n",
       "      <th></th>\n",
       "      <th></th>\n",
       "    </tr>\n",
       "  </thead>\n",
       "  <tbody>\n",
       "    <tr>\n",
       "      <th>147</th>\n",
       "      <td>12.49</td>\n",
       "      <td>13.46</td>\n",
       "      <td>0.86580</td>\n",
       "      <td>5.2670</td>\n",
       "      <td>2.967</td>\n",
       "      <td>4.421</td>\n",
       "      <td>5.002</td>\n",
       "    </tr>\n",
       "    <tr>\n",
       "      <th>78</th>\n",
       "      <td>18.94</td>\n",
       "      <td>16.49</td>\n",
       "      <td>0.87500</td>\n",
       "      <td>6.4450</td>\n",
       "      <td>3.639</td>\n",
       "      <td>5.064</td>\n",
       "      <td>6.362</td>\n",
       "    </tr>\n",
       "    <tr>\n",
       "      <th>117</th>\n",
       "      <td>19.15</td>\n",
       "      <td>16.45</td>\n",
       "      <td>0.88900</td>\n",
       "      <td>6.2450</td>\n",
       "      <td>3.815</td>\n",
       "      <td>3.084</td>\n",
       "      <td>6.185</td>\n",
       "    </tr>\n",
       "    <tr>\n",
       "      <th>42</th>\n",
       "      <td>13.16</td>\n",
       "      <td>13.55</td>\n",
       "      <td>0.90090</td>\n",
       "      <td>5.1380</td>\n",
       "      <td>3.201</td>\n",
       "      <td>2.461</td>\n",
       "      <td>4.783</td>\n",
       "    </tr>\n",
       "    <tr>\n",
       "      <th>17</th>\n",
       "      <td>15.69</td>\n",
       "      <td>14.75</td>\n",
       "      <td>0.90580</td>\n",
       "      <td>5.5270</td>\n",
       "      <td>3.514</td>\n",
       "      <td>1.599</td>\n",
       "      <td>5.046</td>\n",
       "    </tr>\n",
       "    <tr>\n",
       "      <th>5</th>\n",
       "      <td>14.38</td>\n",
       "      <td>14.21</td>\n",
       "      <td>0.89510</td>\n",
       "      <td>5.3860</td>\n",
       "      <td>3.312</td>\n",
       "      <td>2.462</td>\n",
       "      <td>4.956</td>\n",
       "    </tr>\n",
       "    <tr>\n",
       "      <th>154</th>\n",
       "      <td>11.36</td>\n",
       "      <td>13.05</td>\n",
       "      <td>0.83820</td>\n",
       "      <td>5.1750</td>\n",
       "      <td>2.755</td>\n",
       "      <td>4.048</td>\n",
       "      <td>5.263</td>\n",
       "    </tr>\n",
       "    <tr>\n",
       "      <th>171</th>\n",
       "      <td>11.55</td>\n",
       "      <td>13.10</td>\n",
       "      <td>0.84550</td>\n",
       "      <td>5.1670</td>\n",
       "      <td>2.845</td>\n",
       "      <td>6.715</td>\n",
       "      <td>4.956</td>\n",
       "    </tr>\n",
       "    <tr>\n",
       "      <th>48</th>\n",
       "      <td>14.79</td>\n",
       "      <td>14.52</td>\n",
       "      <td>0.88190</td>\n",
       "      <td>5.5450</td>\n",
       "      <td>3.291</td>\n",
       "      <td>2.704</td>\n",
       "      <td>5.111</td>\n",
       "    </tr>\n",
       "    <tr>\n",
       "      <th>169</th>\n",
       "      <td>11.24</td>\n",
       "      <td>13.00</td>\n",
       "      <td>0.87128</td>\n",
       "      <td>0.8359</td>\n",
       "      <td>5.090</td>\n",
       "      <td>2.715</td>\n",
       "      <td>3.521</td>\n",
       "    </tr>\n",
       "  </tbody>\n",
       "</table>\n",
       "</div>"
      ],
      "text/plain": [
       "      area  perimeter  compactness  length  width  asymmetry  groove\n",
       "id                                                                  \n",
       "147  12.49      13.46      0.86580  5.2670  2.967      4.421   5.002\n",
       "78   18.94      16.49      0.87500  6.4450  3.639      5.064   6.362\n",
       "117  19.15      16.45      0.88900  6.2450  3.815      3.084   6.185\n",
       "42   13.16      13.55      0.90090  5.1380  3.201      2.461   4.783\n",
       "17   15.69      14.75      0.90580  5.5270  3.514      1.599   5.046\n",
       "5    14.38      14.21      0.89510  5.3860  3.312      2.462   4.956\n",
       "154  11.36      13.05      0.83820  5.1750  2.755      4.048   5.263\n",
       "171  11.55      13.10      0.84550  5.1670  2.845      6.715   4.956\n",
       "48   14.79      14.52      0.88190  5.5450  3.291      2.704   5.111\n",
       "169  11.24      13.00      0.87128  0.8359  5.090      2.715   3.521"
      ]
     },
     "execution_count": 157,
     "metadata": {},
     "output_type": "execute_result"
    }
   ],
   "source": [
    "data_train.head(10)"
   ]
  },
  {
   "cell_type": "code",
   "execution_count": 149,
   "metadata": {
    "collapsed": false
   },
   "outputs": [
    {
     "name": "stdout",
     "output_type": "stream",
     "text": [
      "0.842857142857\n"
     ]
    },
    {
     "data": {
      "image/png": "[encoded data removed]",
      "text/plain": [
       "<matplotlib.figure.Figure at 0x10f1f9400>"
      ]
     },
     "metadata": {},
     "output_type": "display_data"
    },
    {
     "data": {
      "image/png": "[encoded data removed]",
      "text/plain": [
       "<matplotlib.figure.Figure at 0x11311edd8>"
      ]
     },
     "metadata": {},
     "output_type": "display_data"
    }
   ],
   "source": [
    "knn = KNeighborsClassifier(n_neighbors=8)\n",
    "knn_model = knn.fit(T_train, y_train)\n",
    "print(knn_model.score(T_test,y_test))\n",
    "plotDecisionBoundary(knn_model, T_train, y_train)\n",
    "plotDecisionBoundary(knn_model, T_test, y_test)\n",
    "plt.show()"
   ]
  },
  {
   "cell_type": "code",
   "execution_count": 150,
   "metadata": {
    "collapsed": false
   },
   "outputs": [
    {
     "name": "stdout",
     "output_type": "stream",
     "text": [
      "0.842857142857\n"
     ]
    }
   ],
   "source": [
    "knn = KNeighborsClassifier(n_neighbors=7)\n",
    "knn_model = knn.fit(T_train, y_train)\n",
    "print(knn_model.score(T_test,y_test))"
   ]
  },
  {
   "cell_type": "code",
   "execution_count": 151,
   "metadata": {
    "collapsed": false
   },
   "outputs": [
    {
     "name": "stdout",
     "output_type": "stream",
     "text": [
      "0.842857142857\n"
     ]
    }
   ],
   "source": [
    "knn = KNeighborsClassifier(n_neighbors=6)\n",
    "knn_model = knn.fit(T_train, y_train)\n",
    "print(knn_model.score(T_test,y_test))"
   ]
  },
  {
   "cell_type": "code",
   "execution_count": 152,
   "metadata": {
    "collapsed": false
   },
   "outputs": [
    {
     "name": "stdout",
     "output_type": "stream",
     "text": [
      "0.842857142857\n"
     ]
    }
   ],
   "source": [
    "knn = KNeighborsClassifier(n_neighbors=5)\n",
    "knn_model = knn.fit(T_train, y_train)\n",
    "print(knn_model.score(T_test,y_test))"
   ]
  },
  {
   "cell_type": "code",
   "execution_count": 153,
   "metadata": {
    "collapsed": false
   },
   "outputs": [
    {
     "name": "stdout",
     "output_type": "stream",
     "text": [
      "0.828571428571\n"
     ]
    }
   ],
   "source": [
    "knn = KNeighborsClassifier(n_neighbors=4)\n",
    "knn_model = knn.fit(T_train, y_train)\n",
    "print(knn_model.score(T_test,y_test))"
   ]
  },
  {
   "cell_type": "code",
   "execution_count": 154,
   "metadata": {
    "collapsed": false
   },
   "outputs": [
    {
     "name": "stdout",
     "output_type": "stream",
     "text": [
      "0.857142857143\n"
     ]
    },
    {
     "data": {
      "image/png": "[encoded data removed]",
      "text/plain": [
       "<matplotlib.figure.Figure at 0x1140d0f60>"
      ]
     },
     "metadata": {},
     "output_type": "display_data"
    }
   ],
   "source": [
    "knn = KNeighborsClassifier(n_neighbors=3)\n",
    "knn_model = knn.fit(T_train, y_train)\n",
    "print(knn_model.score(T_test,y_test))\n",
    "plotDecisionBoundary(knn_model, T_train, y_train)\n",
    "plt.show()"
   ]
  },
  {
   "cell_type": "code",
   "execution_count": 155,
   "metadata": {
    "collapsed": false
   },
   "outputs": [
    {
     "name": "stdout",
     "output_type": "stream",
     "text": [
      "0.828571428571\n"
     ]
    }
   ],
   "source": [
    "knn = KNeighborsClassifier(n_neighbors=2)\n",
    "knn_model = knn.fit(T_train, y_train)\n",
    "print(knn_model.score(T_test,y_test))"
   ]
  },
  {
   "cell_type": "code",
   "execution_count": 156,
   "metadata": {
    "collapsed": false
   },
   "outputs": [
    {
     "name": "stdout",
     "output_type": "stream",
     "text": [
      "0.871428571429\n"
     ]
    }
   ],
   "source": [
    "knn = KNeighborsClassifier(n_neighbors=1)\n",
    "knn_model = knn.fit(T_train, y_train)\n",
    "print(knn_model.score(T_test,y_test))"
   ]
  },
  {
   "cell_type": "code",
   "execution_count": 172,
   "metadata": {
    "collapsed": false
   },
   "outputs": [
    {
     "name": "stdout",
     "output_type": "stream",
     "text": [
      "compactness\n",
      "width\n",
      "groove\n",
      "0.921428571429\n",
      "0.885714285714\n"
     ]
    }
   ],
   "source": [
    "import numpy as np\n",
    "import pandas as pd\n",
    "import matplotlib.pyplot as plt\n",
    "import matplotlib\n",
    "\n",
    "matplotlib.style.use('ggplot') # Look Pretty\n",
    "# \n",
    "# TODO: Load up the dataset into a variable called X. Check the .head and\n",
    "# compare it to the file you loaded in a text editor. Make sure you're\n",
    "# loading your data properly--don't fail on the 1st step!\n",
    "#\n",
    "# .. your code here ..\n",
    "X = pd.read_csv(\"/Users/madushani/Google Drive/DataScience/DAT210x-master/Module5/Datasets/wheat.Data\",index_col=0)\n",
    "#X = X.dropna()\n",
    "## Ensure there are no nan \"holes\" in your index, by reshaping row indices\n",
    "#X = X.reset_index(drop=True)\n",
    "#\n",
    "# TODO: Copy the 'wheat_type' series slice out of X, and into a series\n",
    "# called 'y'. Then drop the original 'wheat_type' column from the X\n",
    "#\n",
    "# .. your code here ..\n",
    "wheat_type = X['wheat_type']\n",
    "### Get rid of the wheat_type column.\n",
    "X = X.drop(labels=['wheat_type'], axis=1)\n",
    "\n",
    "#wheat_type = X['wheat_type'].copy()\n",
    "#X.drop(labels=['wheat_type'], inplace=True, axis=1)\n",
    "\n",
    "# TODO: Do a quick, \"ordinal\" conversion of 'y'. In actuality our\n",
    "# classification isn't ordinal, but just as an experiment...\n",
    "#\n",
    "# .. your code here ..\n",
    "wheat_type.unique()\n",
    "wheat_type.value_counts()\n",
    "ordered_wheat_type = ['canadian', 'rosa ', 'kama']\n",
    "wheat_type = wheat_type.astype(\"category\",\n",
    "  ordered=True,\n",
    "  categories=ordered_wheat_type\n",
    ").cat.codes\n",
    "\n",
    "import numpy as np\n",
    "sum(wheat_type.apply(np.isnan))\n",
    "\n",
    "#\n",
    "# TODO: Basic nan munging. Fill each row's nans with the mean of the feature\n",
    "#\n",
    "# .. your code here ..\n",
    "for elements in X.columns.values:\n",
    "    if sum(X[elements].apply(np.isnan)) > 0:\n",
    "        print(elements)\n",
    "        X[elements] = X[elements].fillna( X[elements].mean())\n",
    "        \n",
    "#mylist = []\n",
    "#for elements in X.columns.values:\n",
    "   # if sum(X[elements].apply(np.isnan)) > 0:\n",
    "        #mylist.append(elements)\n",
    "#print(mylist)\n",
    "# ['compactness', 'width', 'groove']\n",
    "\n",
    "\n",
    "\n",
    "# TODO: Split X into training and testing data sets using train_test_split().\n",
    "# INFO: Use 0.33 test size, and use random_state=1. This is important\n",
    "# so that your answers are verifiable. In the real world, you wouldn't\n",
    "# specify a random_state.\n",
    "#\n",
    "# .. your code here ..\n",
    "\n",
    "from sklearn.model_selection import train_test_split\n",
    "X_train, X_test, y_train, y_test = train_test_split(X, wheat_type, test_size=0.33, random_state=1)\n",
    "# \n",
    "# TODO: Create an instance of SKLearn's Normalizer class and then train it\n",
    "# using its .fit() method against your *training* data.\n",
    "#\n",
    "# NOTE: The reason you only fit against your training data is because in a\n",
    "# real-world situation, you'll only have your training data to train with!\n",
    "# In this lab setting, you have both train+test data; but in the wild,\n",
    "# you'll only have your training data, and then unlabeled data you want to\n",
    "# apply your models to.\n",
    "#\n",
    "# .. your code here ..\n",
    "from sklearn import preprocessing\n",
    "normalizer = preprocessing.Normalizer().fit(X_train) \n",
    "X_train_transformed = normalizer.transform(X_train) \n",
    "\n",
    "\n",
    "#\n",
    "# TODO: With your trained pre-processor, transform both your training AND\n",
    "# testing data.\n",
    "#\n",
    "# NOTE: Any testing data has to be transformed with your preprocessor\n",
    "# that has ben fit against your training data, so that it exist in the same\n",
    "# feature-space as the original data used to train your models.\n",
    "#\n",
    "# .. your code here ..\n",
    "normalizer = preprocessing.Normalizer().fit(X_test) \n",
    "X_test_transformed = normalizer.transform(X_test)\n",
    "\n",
    "from sklearn.neighbors import KNeighborsClassifier\n",
    "knn = KNeighborsClassifier(n_neighbors=9)\n",
    "knn_model = knn.fit(X_train_transformed, y_train)\n",
    "\n",
    "print(knn_model.score(X_train_transformed,y_train)) ##training error\n",
    "print(knn_model.score(X_test_transformed,y_test)) ##test error\n",
    "\n"
   ]
  },
  {
   "cell_type": "code",
   "execution_count": 174,
   "metadata": {
    "collapsed": false
   },
   "outputs": [
    {
     "name": "stdout",
     "output_type": "stream",
     "text": [
      "compactness\n",
      "width\n",
      "groove\n",
      "0.914285714286\n",
      "0.885714285714\n"
     ]
    }
   ],
   "source": [
    "import numpy as np\n",
    "import pandas as pd\n",
    "import matplotlib.pyplot as plt\n",
    "import matplotlib\n",
    "\n",
    "matplotlib.style.use('ggplot') # Look Pretty\n",
    "# \n",
    "# TODO: Load up the dataset into a variable called X. Check the .head and\n",
    "# compare it to the file you loaded in a text editor. Make sure you're\n",
    "# loading your data properly--don't fail on the 1st step!\n",
    "#\n",
    "# .. your code here ..\n",
    "X = pd.read_csv(\"/Users/madushani/Google Drive/DataScience/DAT210x-master/Module5/Datasets/wheat.Data\",index_col=0)\n",
    "#X = X.dropna()\n",
    "## Ensure there are no nan \"holes\" in your index, by reshaping row indices\n",
    "#X = X.reset_index(drop=True)\n",
    "#\n",
    "# TODO: Copy the 'wheat_type' series slice out of X, and into a series\n",
    "# called 'y'. Then drop the original 'wheat_type' column from the X\n",
    "#\n",
    "# .. your code here ..\n",
    "wheat_type = X['wheat_type']\n",
    "### Get rid of the wheat_type column.\n",
    "X = X.drop(labels=['wheat_type'], axis=1)\n",
    "\n",
    "#wheat_type = X['wheat_type'].copy()\n",
    "#X.drop(labels=['wheat_type'], inplace=True, axis=1)\n",
    "\n",
    "# TODO: Do a quick, \"ordinal\" conversion of 'y'. In actuality our\n",
    "# classification isn't ordinal, but just as an experiment...\n",
    "#\n",
    "# .. your code here ..\n",
    "\n",
    "wheat_type = pd.get_dummies(wheat_type,columns=['wheat_type'])\n",
    "\n",
    "\n",
    "#import numpy as np\n",
    "#sum(wheat_type.apply(np.isnan))\n",
    "\n",
    "#\n",
    "# TODO: Basic nan munging. Fill each row's nans with the mean of the feature\n",
    "#\n",
    "# .. your code here ..\n",
    "for elements in X.columns.values:\n",
    "    if sum(X[elements].apply(np.isnan)) > 0:\n",
    "        print(elements)\n",
    "        X[elements] = X[elements].fillna( X[elements].mean())\n",
    "        \n",
    "\n",
    "# TODO: Split X into training and testing data sets using train_test_split().\n",
    "# INFO: Use 0.33 test size, and use random_state=1. This is important\n",
    "# so that your answers are verifiable. In the real world, you wouldn't\n",
    "# specify a random_state.\n",
    "#\n",
    "# .. your code here ..\n",
    "\n",
    "from sklearn.model_selection import train_test_split\n",
    "X_train, X_test, y_train, y_test = train_test_split(X, wheat_type, test_size=0.33, random_state=1)\n",
    "# \n",
    "# TODO: Create an instance of SKLearn's Normalizer class and then train it\n",
    "# using its .fit() method against your *training* data.\n",
    "#\n",
    "# NOTE: The reason you only fit against your training data is because in a\n",
    "# real-world situation, you'll only have your training data to train with!\n",
    "# In this lab setting, you have both train+test data; but in the wild,\n",
    "# you'll only have your training data, and then unlabeled data you want to\n",
    "# apply your models to.\n",
    "#\n",
    "# .. your code here ..\n",
    "from sklearn import preprocessing\n",
    "normalizer = preprocessing.Normalizer().fit(X_train) \n",
    "X_train_transformed = normalizer.transform(X_train) \n",
    "\n",
    "\n",
    "#\n",
    "# TODO: With your trained pre-processor, transform both your training AND\n",
    "# testing data.\n",
    "#\n",
    "# NOTE: Any testing data has to be transformed with your preprocessor\n",
    "# that has ben fit against your training data, so that it exist in the same\n",
    "# feature-space as the original data used to train your models.\n",
    "#\n",
    "# .. your code here ..\n",
    "normalizer = preprocessing.Normalizer().fit(X_test) \n",
    "X_test_transformed = normalizer.transform(X_test)\n",
    "\n",
    "from sklearn.neighbors import KNeighborsClassifier\n",
    "knn = KNeighborsClassifier(n_neighbors=9)\n",
    "knn_model = knn.fit(X_train_transformed, y_train)\n",
    "\n",
    "print(knn_model.score(X_train_transformed,y_train)) ##training error\n",
    "print(knn_model.score(X_test_transformed,y_test)) ##test error\n"
   ]
  },
  {
   "cell_type": "code",
   "execution_count": 183,
   "metadata": {
    "collapsed": false
   },
   "outputs": [
    {
     "name": "stdout",
     "output_type": "stream",
     "text": [
      "0.885714285714\n"
     ]
    }
   ],
   "source": [
    "pred = knn.predict(X_test_transformed)\n",
    "#import numpy as np\n",
    "from sklearn.metrics import accuracy_score\n",
    "print(accuracy_score(y_test, pred))"
   ]
  },
  {
   "cell_type": "code",
   "execution_count": 202,
   "metadata": {
    "collapsed": false
   },
   "outputs": [],
   "source": [
    "# creating odd list of K for KNN\n",
    "myList = list(range(1,50))\n",
    "\n",
    "# subsetting just the odd ones\n",
    "#neighbors = filter(lambda x: x % 2 != 0, myList)\n",
    "neighbors = []\n",
    "for items in myList:\n",
    "    if items % 2 != 0:\n",
    "        neighbors.append(items)\n",
    "\n",
    "\n",
    "# empty list that will hold cv scores\n",
    "cv_scores = []\n",
    "\n",
    "from sklearn.model_selection import cross_val_score\n",
    "# perform 10-fold cross validation\n",
    "for k in neighbors:\n",
    "    knn = KNeighborsClassifier(n_neighbors=k)\n",
    "    scores = cross_val_score(knn, X_train_transformed, y_train, cv=10, scoring='accuracy')\n",
    "    cv_scores.append(scores.mean())"
   ]
  },
  {
   "cell_type": "code",
   "execution_count": 203,
   "metadata": {
    "collapsed": false
   },
   "outputs": [
    {
     "name": "stdout",
     "output_type": "stream",
     "text": [
      "The optimal number of neighbors is: 3\n"
     ]
    },
    {
     "data": {
      "image/png": "[encoded data removed]",
      "text/plain": [
       "<matplotlib.figure.Figure at 0x114e696a0>"
      ]
     },
     "metadata": {},
     "output_type": "display_data"
    }
   ],
   "source": [
    "# changing to misclassification error\n",
    "MSE = [1 - x for x in cv_scores]\n",
    "\n",
    "# determining best k\n",
    "optimal_k = neighbors[MSE.index(min(MSE))]\n",
    "print(\"The optimal number of neighbors is:\", optimal_k)\n",
    "\n",
    "# plot misclassification error vs k\n",
    "plt.plot(neighbors, MSE)\n",
    "plt.xlabel('Number of Neighbors K')\n",
    "plt.ylabel('Misclassification Error')\n",
    "plt.show()"
   ]
  },
  {
   "cell_type": "code",
   "execution_count": 204,
   "metadata": {
    "collapsed": false
   },
   "outputs": [
    {
     "name": "stdout",
     "output_type": "stream",
     "text": [
      "0.871428571429\n"
     ]
    }
   ],
   "source": [
    "knn = KNeighborsClassifier(n_neighbors=3)\n",
    "knn_model = knn.fit(X_train_transformed, y_train)\n",
    "\n",
    "#print(knn_model.score(X_train_transformed,y_train)) ##training error\n",
    "print(knn_model.score(X_test_transformed,y_test)) ##test error\n"
   ]
  },
  {
   "cell_type": "code",
   "execution_count": null,
   "metadata": {
    "collapsed": false
   },
   "outputs": [],
   "source": [
    "\n"
   ]
  },
  {
   "cell_type": "code",
   "execution_count": null,
   "metadata": {
    "collapsed": true
   },
   "outputs": [],
   "source": []
  }
 ],
 "metadata": {
  "kernelspec": {
   "display_name": "Python [default]",
   "language": "python",
   "name": "python3"
  },
  "language_info": {
   "codemirror_mode": {
    "name": "ipython",
    "version": 3
   },
   "file_extension": ".py",
   "mimetype": "text/x-python",
   "name": "python",
   "nbconvert_exporter": "python",
   "pygments_lexer": "ipython3",
   "version": "3.5.2"
  }
 },
 "nbformat": 4,
 "nbformat_minor": 2
}
